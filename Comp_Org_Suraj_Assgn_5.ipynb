{
  "nbformat": 4,
  "nbformat_minor": 0,
  "metadata": {
    "colab": {
      "provenance": [],
      "authorship_tag": "ABX9TyOjME1FT8ydFIAgmaq+RQOn",
      "include_colab_link": true
    },
    "kernelspec": {
      "name": "python3",
      "display_name": "Python 3"
    },
    "language_info": {
      "name": "python"
    }
  },
  "cells": [
    {
      "cell_type": "markdown",
      "metadata": {
        "id": "view-in-github",
        "colab_type": "text"
      },
      "source": [
        "<a href=\"https://colab.research.google.com/github/surajsolti/Suraj-CE305/blob/main/Comp_Org_Suraj_Assgn_5.ipynb\" target=\"_parent\"><img src=\"https://colab.research.google.com/assets/colab-badge.svg\" alt=\"Open In Colab\"/></a>"
      ]
    },
    {
      "cell_type": "code",
      "execution_count": 10,
      "metadata": {
        "colab": {
          "base_uri": "https://localhost:8080/"
        },
        "id": "keKLYWuX8Rs9",
        "outputId": "3888eff4-c30b-4afc-f954-88ce8fae11c3"
      },
      "outputs": [
        {
          "output_type": "stream",
          "name": "stdout",
          "text": [
            "Memory: {800: 123}\n",
            "Memory: {800: 123, 900: 1000}\n",
            "Memory: {800: 900, 900: 1000}\n",
            "Memory: {800: 900, 900: 1000, 1500: 700}\n",
            "Accumulator: 800\n",
            "Accumulator: 900\n",
            "Accumulator: 1000\n",
            "Accumulator: 0\n"
          ]
        }
      ],
      "source": [
        "# Qno.1\n",
        "init_mem = {}  # Empty memory at the very beginning\n",
        "a = {800: 123}  # 1st data with address 800 and value 123\n",
        "b = {900: 1000}  # 2nd data with address 900 and value 1000\n",
        "\n",
        "def store(storage, elm):\n",
        "    storage.update(elm)\n",
        "    return storage\n",
        "\n",
        "mem = store(init_mem, a)  # mem = {800: 123}\n",
        "print(\"Memory:\", mem)\n",
        "\n",
        "mem = store(mem, b)  # mem = {800: 123, 900: 1000}\n",
        "print(\"Memory:\", mem)\n",
        "\n",
        "c = {800: 900}\n",
        "mem = store(mem, c)  # mem = {800: 900, 900: 1000}\n",
        "print(\"Memory:\", mem)\n",
        "\n",
        "d = {1500: 700}\n",
        "mem = store(mem, d)  # mem = {800: 900, 900: 1000, 1500: 700}\n",
        "print(\"Memory:\", mem)\n",
        "\n",
        "def imm_load_ac(val):\n",
        "    return val\n",
        "\n",
        "ac = imm_load_ac(800)  # ac = 800\n",
        "print(\"Accumulator:\", ac)\n",
        "\n",
        "def dir_load_ac(storage, val):\n",
        "    return storage.get(val, 0)\n",
        "\n",
        "ac = dir_load_ac(mem, 800)  # ac = 900\n",
        "print(\"Accumulator:\", ac)\n",
        "\n",
        "def indir_load_ac(storage, val):\n",
        "    ind_addr = storage.get(val, 0)\n",
        "    return storage.get(ind_addr, 0)\n",
        "\n",
        "ac = indir_load_ac(mem, 800)  # ac = 1000\n",
        "print(\"Accumulator:\", ac)\n",
        "\n",
        "def idx_load_ac(storage, idx, val):\n",
        "    ind_addr = storage.get(val, 0)\n",
        "    return storage.get(ind_addr + idx, 0)\n",
        "\n",
        "idxreg = 700\n",
        "ac = idx_load_ac(mem, idxreg, 800)  # ac = 700\n",
        "print(\"Accumulator:\", ac)\n"
      ]
    },
    {
      "cell_type": "code",
      "source": [
        "# Qno.2\n",
        "init_mem = {}\n",
        "\n",
        "def store(storage, elm):\n",
        "    storage.update(elm)\n",
        "    return storage\n",
        "\n",
        "a = {\"00000110101000\": [0, 1, 2, 3, 4, 5, 6, 7]}\n",
        "mem = store(init_mem, a)\n",
        "\n",
        "b = {\"00001110101000\": [10, 11, 12, 13, 14, 15, 16, 17]}\n",
        "mem = store(mem, b)\n",
        "\n",
        "cache = {\"0000\": [\"0000000\", [0, 0, 0, 0, 0, 0, 0, 0], 0],\n",
        "         \"0001\": [\"0000000\", [0, 0, 0, 0, 0, 0, 0, 0], 0],\n",
        "         \"0010\": [\"0000000\", [0, 0, 0, 0, 0, 0, 0, 0], 0],\n",
        "         \"0011\": [\"0000000\", [0, 0, 0, 0, 0, 0, 0, 0], 0],\n",
        "         \"0100\": [\"0000000\", [0, 0, 0, 0, 0, 0, 0, 0], 0],\n",
        "         \"0101\": [\"0000000\", [0, 0, 0, 0, 0, 0, 0, 0], 0],\n",
        "         \"0110\": [\"0000000\", [0, 0, 0, 0, 0, 0, 0, 0], 0],\n",
        "         \"0111\": [\"0000000\", [0, 0, 0, 0, 0, 0, 0, 0], 0],\n",
        "         \"1000\": [\"0000000\", [0, 0, 0, 0, 0, 0, 0, 0], 0],\n",
        "         \"1001\": [\"0000000\", [0, 0, 0, 0, 0, 0, 0, 0], 0],\n",
        "         \"1010\": [\"0000000\", [0, 0, 0, 0, 0, 0, 0, 0], 0],\n",
        "         \"1011\": [\"0000000\", [0, 0, 0, 0, 0, 0, 0, 0], 0],\n",
        "         \"1100\": [\"0000000\", [0, 0, 0, 0, 0, 0, 0, 0], 0],\n",
        "         \"1101\": [\"0000000\", [0, 0, 0, 0, 0, 0, 0, 0], 0],\n",
        "         \"1110\": [\"0000000\", [0, 0, 0, 0, 0, 0, 0, 0], 0],\n",
        "         \"1111\": [\"0000000\", [0, 0, 0, 0, 0, 0, 0, 0], 0]}\n",
        "\n",
        "adr1 = \"00000110101010\"  # hex address: 1AA\n",
        "\n",
        "def dir_map_cache(cache, adr, storage):\n",
        "    block_label = adr[4:8]\n",
        "    tag = adr[:7]\n",
        "    valid_bit = 1\n",
        "    cache[block_label] = [tag, storage.get(adr, [0, 0, 0, 0, 0, 0, 0, 0]), valid_bit]\n",
        "    return cache\n",
        "\n",
        "cache = dir_map_cache(cache, adr1, mem)\n",
        "\n",
        "adr2 = \"00001110101010\"  # hex address: 3AA\n",
        "cache = dir_map_cache(cache, adr2, mem)\n",
        "\n",
        "c = {\"00001110111000\": [20, 21, 22, 23, 24, 25, 26, 27]}\n",
        "mem = store(mem, c)\n",
        "\n",
        "adr3 = \"00001110111111\"  # hex address: 7BF\n",
        "cache = dir_map_cache(cache, adr3, mem)\n",
        "\n",
        "def check_cache(cache, adr):\n",
        "    block_label = adr[4:8]\n",
        "    tag = adr[:7]\n",
        "    cache_entry = cache.get(block_label, [\"0000000\", [0, 0, 0, 0, 0, 0, 0, 0], 0])\n",
        "\n",
        "    if cache_entry[0] == tag and cache_entry[2] == 1:\n",
        "        print(\"Hit\")\n",
        "    else:\n",
        "        print(\"Miss\")\n",
        "\n",
        "check_cache(cache, adr1)  # Hit\n",
        "check_cache(cache, adr2)  # Miss\n",
        "check_cache(cache, adr3)  # Hit\n"
      ],
      "metadata": {
        "colab": {
          "base_uri": "https://localhost:8080/"
        },
        "id": "92toFIHA8qD7",
        "outputId": "d1464bdd-fd37-4d3c-a3e7-45ecb388f40b"
      },
      "execution_count": 11,
      "outputs": [
        {
          "output_type": "stream",
          "name": "stdout",
          "text": [
            "Hit\n",
            "Hit\n",
            "Hit\n"
          ]
        }
      ]
    },
    {
      "cell_type": "code",
      "source": [
        "#Qno.3\n",
        "init_mem = {}\n",
        "\n",
        "def store(storage, elm):\n",
        "    storage.update(elm)\n",
        "    return storage\n",
        "\n",
        "a = {\"00000110101000\": [0, 1, 2, 3, 4, 5, 6, 7]}\n",
        "mem = store(init_mem, a)\n",
        "\n",
        "b = {\"00001110101000\": [10, 11, 12, 13, 14, 15, 16, 17]}\n",
        "mem = store(mem, b)\n",
        "\n",
        "c = {\"00011110101000\": [20, 21, 22, 23, 24, 25, 26, 27]}\n",
        "mem = store(mem, c)\n",
        "\n",
        "d = {\"00111110101000\": [30, 31, 32, 33, 34, 35, 36, 37]}\n",
        "mem = store(mem, d)\n",
        "\n",
        "e = {\"01111110101000\": [40, 41, 42, 43, 44, 45, 46, 47]}\n",
        "mem = store(mem, e)\n",
        "\n",
        "# Initialize cache\n",
        "# Cache format: key -> block label\n",
        "# Value -> tag(11 bits), values of 8 words, valid(1 bit)\n",
        "# Assume that there are only 4 cache lines\n",
        "cache = {\n",
        "    \"blk0\": [\"00000000000\", [0, 0, 0, 0, 0, 0, 0, 0], 0],\n",
        "    \"blk1\": [\"00000000000\", [0, 0, 0, 0, 0, 0, 0, 0], 0],\n",
        "    \"blk2\": [\"00000000000\", [0, 0, 0, 0, 0, 0, 0, 0], 0],\n",
        "    \"blk3\": [\"00000000000\", [0, 0, 0, 0, 0, 0, 0, 0], 0]\n",
        "}\n",
        "\n",
        "def fully_ass_cache(cache, adr, storage):\n",
        "    block_label = adr[4:8]\n",
        "    tag = adr[:11]\n",
        "    valid_bit = 1\n",
        "\n",
        "    # Find an available cache line or evict one if necessary\n",
        "    for line in cache:\n",
        "        if cache[line][2] == 0:\n",
        "            cache[line] = [tag, storage.get(adr, [0, 0, 0, 0, 0, 0, 0, 0]), valid_bit]\n",
        "            return cache\n",
        "\n",
        "    # If no available cache line, evict the first one (LRU policy)\n",
        "    lru_line = min(cache, key=lambda x: cache[x][2])\n",
        "    cache[lru_line] = [tag, storage.get(adr, [0, 0, 0, 0, 0, 0, 0, 0]), valid_bit]\n",
        "    return cache\n",
        "\n",
        "adr1 = \"00000110101010\"  # hex address: 1AA\n",
        "cache = fully_ass_cache(cache, adr1, mem)\n",
        "\n",
        "adr2 = \"00001110101010\"  # hex address: 3AA\n",
        "cache = fully_ass_cache(cache, adr2, mem)\n",
        "\n",
        "adr3 = \"00011110101111\"  # hex address: 7AF\n",
        "cache = fully_ass_cache(cache, adr3, mem)\n",
        "\n",
        "adr4 = \"00111110101101\"  # hex address: FAD\n",
        "cache = fully_ass_cache(cache, adr4, mem)\n",
        "\n",
        "adr5 = '01111110101110'  # hex address: 1FAE\n",
        "cache = fully_ass_cache(cache, adr5, mem)\n",
        "\n",
        "print(cache)\n"
      ],
      "metadata": {
        "colab": {
          "base_uri": "https://localhost:8080/"
        },
        "id": "lRbZG37c9whV",
        "outputId": "acd96a76-11f6-4b13-d15e-52cea26298da"
      },
      "execution_count": 9,
      "outputs": [
        {
          "output_type": "stream",
          "name": "stdout",
          "text": [
            "{'blk0': ['01111110101', [0, 0, 0, 0, 0, 0, 0, 0], 1], 'blk1': ['00001110101', [0, 0, 0, 0, 0, 0, 0, 0], 1], 'blk2': ['00011110101', [0, 0, 0, 0, 0, 0, 0, 0], 1], 'blk3': ['00111110101', [0, 0, 0, 0, 0, 0, 0, 0], 1]}\n"
          ]
        }
      ]
    }
  ]
}